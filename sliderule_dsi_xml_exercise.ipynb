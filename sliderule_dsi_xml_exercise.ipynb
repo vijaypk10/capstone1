{
 "cells": [
  {
   "cell_type": "markdown",
   "metadata": {},
   "source": [
    "# XML example and exercise\n",
    "****\n",
    "+ study examples of accessing nodes in XML tree structure  \n",
    "+ work on exercise to be completed and submitted\n",
    "****\n",
    "+ reference: https://docs.python.org/2.7/library/xml.etree.elementtree.html\n",
    "+ data source: http://www.dbis.informatik.uni-goettingen.de/Mondial\n",
    "****"
   ]
  },
  {
   "cell_type": "code",
   "execution_count": 619,
   "metadata": {},
   "outputs": [],
   "source": [
    "from xml.etree import ElementTree as ET\n",
    "import pandas as pd"
   ]
  },
  {
   "cell_type": "markdown",
   "metadata": {},
   "source": [
    "## XML example\n",
    "\n",
    "+ for details about tree traversal and iterators, see https://docs.python.org/2.7/library/xml.etree.elementtree.html"
   ]
  },
  {
   "cell_type": "code",
   "execution_count": 620,
   "metadata": {
    "collapsed": true
   },
   "outputs": [],
   "source": [
    "document_tree = ET.parse( './data/mondial_database_less.xml' )"
   ]
  },
  {
   "cell_type": "code",
   "execution_count": 621,
   "metadata": {},
   "outputs": [
    {
     "name": "stdout",
     "output_type": "stream",
     "text": [
      "Albania\n",
      "Greece\n",
      "Macedonia\n",
      "Serbia\n",
      "Montenegro\n",
      "Kosovo\n",
      "Andorra\n"
     ]
    }
   ],
   "source": [
    "# print names of all countries\n",
    "for child in document_tree.getroot():\n",
    "    print child.find('name').text"
   ]
  },
  {
   "cell_type": "code",
   "execution_count": 622,
   "metadata": {},
   "outputs": [
    {
     "name": "stdout",
     "output_type": "stream",
     "text": [
      "* Albania: Tirana, Shkodër, Durrës, Vlorë, Elbasan, Korçë\n",
      "* Greece: Komotini, Kavala, Athina, Peiraias, Peristeri, Acharnes, Patra, Kozani, Kerkyra, Ioannina, Thessaloniki, Iraklio, Chania, Ermoupoli, Rhodes, Tripoli, Lamia, Chalkida, Larissa, Volos, Mytilini, Karyes\n",
      "* Macedonia: Skopje, Kumanovo\n",
      "* Serbia: Beograd, Novi Sad, Niš\n",
      "* Montenegro: Podgorica\n",
      "* Kosovo: Prishtine\n",
      "* Andorra: Andorra la Vella\n"
     ]
    }
   ],
   "source": [
    "# print names of all countries and their cities\n",
    "for element in document_tree.iterfind('country'):\n",
    "    print '* ' + element.find('name').text + ':',\n",
    "    capitals_string = ''\n",
    "    for subelement in element.getiterator('city'):  # deprecated: see https://docs.python.org/2.7/library/xml.etree.elementtree.html\n",
    "        capitals_string += subelement.find('name').text + ', '\n",
    "    print capitals_string[:-2]"
   ]
  },
  {
   "cell_type": "markdown",
   "metadata": {},
   "source": [
    "****\n",
    "## XML exercise\n",
    "\n",
    "Using data in 'data/mondial_database.xml', the examples above, and refering to https://docs.python.org/2.7/library/xml.etree.elementtree.html, find\n",
    "\n",
    "1. 10 countries with the lowest infant mortality rates\n",
    "2. 10 cities with the largest population\n",
    "3. 10 ethnic groups with the largest overall populations (sum of best/latest estimates over all countries)\n",
    "4. name and country of a) longest river, b) largest lake and c) airport at highest elevation"
   ]
  },
  {
   "cell_type": "code",
   "execution_count": 623,
   "metadata": {},
   "outputs": [],
   "source": [
    "document = ET.parse( './data/mondial_database.xml' )\n",
    "root = document.getroot()\n",
    "\n",
    "def make_df(root, tag, attribselector, oncolumn, comparisontype):\n",
    "    elements = []\n",
    "    clist = []\n",
    "\n",
    "# grab all elements for tag (ie - city) and build a column list while we're here\n",
    "    for e in root.iter(tag): \n",
    "        elements.append(e)\n",
    "        for child in e.iter():\n",
    "            clist.append(child.tag)\n",
    "    \n",
    "    # now lets have a unique list and make it dataframe friendly\n",
    "    clist = list(set(clist))\n",
    "    column_series = pd.Series(clist, index=range(len(clist)))\n",
    "    \n",
    "# make dataframe of appropriate size to accomodate all elements\n",
    "    df = pd.DataFrame(index=range(len(elements)), columns=['name'])\n",
    "\n",
    "# add columns\n",
    "    # no matter what attribute we're checking against, \n",
    "    # we just need a place to store its value for comparison\n",
    "    df['attribselector'] = None \n",
    "    df[tag] = None\n",
    "    # now all the others\n",
    "    for cs in column_series: \n",
    "        if (cs != 'name') & (cs != tag): df[cs] = None        \n",
    "    \n",
    "# fill dataframe\n",
    "    i = 0\n",
    "    for e in elements:\n",
    "        # Sometimes we're looking for attributes in the primary element.\n",
    "        if oncolumn == tag:\n",
    "            df.loc[i]['attribselector'] = e.get(attribselector)\n",
    "            \n",
    "        # just making sure we always have the name, cuz it does the columns backwards and we need it below\n",
    "        if \"name\" in column_series.values:\n",
    "            curname = e.find('name')\n",
    "            \n",
    "        for thiscolumn in column_series:\n",
    "            column_values = e.findall(thiscolumn)\n",
    "            for thiscolumnvalue in column_values:\n",
    "                if thiscolumnvalue != None:\n",
    "                    ondeck = thiscolumnvalue.text\n",
    "                    \n",
    "                    # oncolumn is the column we want attributes from, but\n",
    "                    # most of the time we're not doing that\n",
    "                    if thiscolumn != oncolumn:\n",
    "                        df.loc[i][thiscolumn] = ondeck\n",
    "                    \n",
    "                    # and as usual, the smallest number of cases require the most code\n",
    "                    else:\n",
    "                        # 1: if there's no attribute, maybe this is the only datapoint of its type\n",
    "                        if (attribselector not in thiscolumnvalue.attrib):\n",
    "                            df.loc[i][thiscolumn] = ondeck\n",
    "                        \n",
    "                        # 2: if the attribute is there, we should check against the previous attrib value\n",
    "                        #    if one exists and place the current attrib value for later comparison\n",
    "                        if (attribselector in thiscolumnvalue.attrib):\n",
    "                            current_attrib_value = thiscolumnvalue.get(attribselector)\n",
    "                            # our first encounter with the attribute\n",
    "                            # so we'll use the value and place the attribute\n",
    "                            if df.loc[i]['attribselector'] == None:  \n",
    "                                df.loc[i][thiscolumn] = ondeck\n",
    "                                df.loc[i]['attribselector'] = current_attrib_value\n",
    "                            \n",
    "                            # subsequent encounters with the attribute \n",
    "                            # so we have to check it against past values\n",
    "                            elif df.loc[i]['attribselector'] != None: \n",
    "                                past_attrib_value = df.loc[i]['attribselector']\n",
    "                                if comparisontype == \"mostest\":\n",
    "                                    if current_attrib_value > past_attrib_value: \n",
    "                                        df.loc[i][thiscolumn] = ondeck\n",
    "                                        df.loc[i]['attribselector'] = current_attrib_value\n",
    "                                elif comparisontype == \"enumerate\":\n",
    "                                    df = df.append(df.loc[i].to_dict(), ignore_index=True)\n",
    "                                    df.loc[len(df) - 1]['name'] = curname.text\n",
    "                                    df.loc[len(df) - 1][thiscolumn] = ondeck\n",
    "                                    df.loc[len(df) - 1]['attribselector'] = current_attrib_value\n",
    "        i = i + 1\n",
    "    return df\n"
   ]
  },
  {
   "cell_type": "code",
   "execution_count": 626,
   "metadata": {},
   "outputs": [
    {
     "data": {
      "text/html": [
       "<div>\n",
       "<style>\n",
       "    .dataframe thead tr:only-child th {\n",
       "        text-align: right;\n",
       "    }\n",
       "\n",
       "    .dataframe thead th {\n",
       "        text-align: left;\n",
       "    }\n",
       "\n",
       "    .dataframe tbody tr th {\n",
       "        vertical-align: top;\n",
       "    }\n",
       "</style>\n",
       "<table border=\"1\" class=\"dataframe\">\n",
       "  <thead>\n",
       "    <tr style=\"text-align: right;\">\n",
       "      <th></th>\n",
       "      <th>name</th>\n",
       "      <th>infant_mortality</th>\n",
       "    </tr>\n",
       "  </thead>\n",
       "  <tbody>\n",
       "    <tr>\n",
       "      <th>38</th>\n",
       "      <td>Monaco</td>\n",
       "      <td>1.81</td>\n",
       "    </tr>\n",
       "    <tr>\n",
       "      <th>98</th>\n",
       "      <td>Japan</td>\n",
       "      <td>2.13</td>\n",
       "    </tr>\n",
       "    <tr>\n",
       "      <th>117</th>\n",
       "      <td>Bermuda</td>\n",
       "      <td>2.48</td>\n",
       "    </tr>\n",
       "    <tr>\n",
       "      <th>36</th>\n",
       "      <td>Norway</td>\n",
       "      <td>2.48</td>\n",
       "    </tr>\n",
       "    <tr>\n",
       "      <th>106</th>\n",
       "      <td>Singapore</td>\n",
       "      <td>2.53</td>\n",
       "    </tr>\n",
       "    <tr>\n",
       "      <th>37</th>\n",
       "      <td>Sweden</td>\n",
       "      <td>2.60</td>\n",
       "    </tr>\n",
       "    <tr>\n",
       "      <th>10</th>\n",
       "      <td>Czech Republic</td>\n",
       "      <td>2.63</td>\n",
       "    </tr>\n",
       "    <tr>\n",
       "      <th>78</th>\n",
       "      <td>Hong Kong</td>\n",
       "      <td>2.73</td>\n",
       "    </tr>\n",
       "    <tr>\n",
       "      <th>79</th>\n",
       "      <td>Macao</td>\n",
       "      <td>3.13</td>\n",
       "    </tr>\n",
       "    <tr>\n",
       "      <th>44</th>\n",
       "      <td>Iceland</td>\n",
       "      <td>3.15</td>\n",
       "    </tr>\n",
       "  </tbody>\n",
       "</table>\n",
       "</div>"
      ],
      "text/plain": [
       "               name  infant_mortality\n",
       "38           Monaco              1.81\n",
       "98            Japan              2.13\n",
       "117         Bermuda              2.48\n",
       "36           Norway              2.48\n",
       "106       Singapore              2.53\n",
       "37           Sweden              2.60\n",
       "10   Czech Republic              2.63\n",
       "78        Hong Kong              2.73\n",
       "79            Macao              3.13\n",
       "44          Iceland              3.15"
      ]
     },
     "execution_count": 626,
     "metadata": {},
     "output_type": "execute_result"
    }
   ],
   "source": [
    "### -- question 1: 10 countries with the lowest infant mortality rates\n",
    "\n",
    "adf = make_df(root, tag=\"country\", attribselector=\"na\", oncolumn=\"na\", comparisontype=\"na\")\n",
    "adf['infant_mortality'] = adf['infant_mortality'].astype('float')\n",
    "adf[['name', 'infant_mortality']].sort_values('infant_mortality', ascending=True)[:10]"
   ]
  },
  {
   "cell_type": "code",
   "execution_count": 627,
   "metadata": {},
   "outputs": [
    {
     "data": {
      "text/html": [
       "<div>\n",
       "<style>\n",
       "    .dataframe thead tr:only-child th {\n",
       "        text-align: right;\n",
       "    }\n",
       "\n",
       "    .dataframe thead th {\n",
       "        text-align: left;\n",
       "    }\n",
       "\n",
       "    .dataframe tbody tr th {\n",
       "        vertical-align: top;\n",
       "    }\n",
       "</style>\n",
       "<table border=\"1\" class=\"dataframe\">\n",
       "  <thead>\n",
       "    <tr style=\"text-align: right;\">\n",
       "      <th></th>\n",
       "      <th>name</th>\n",
       "      <th>population</th>\n",
       "      <th>attribselector</th>\n",
       "    </tr>\n",
       "  </thead>\n",
       "  <tbody>\n",
       "    <tr>\n",
       "      <th>1341</th>\n",
       "      <td>Shanghai</td>\n",
       "      <td>22315474.0</td>\n",
       "      <td>2010</td>\n",
       "    </tr>\n",
       "    <tr>\n",
       "      <th>771</th>\n",
       "      <td>Istanbul</td>\n",
       "      <td>13710512.0</td>\n",
       "      <td>2012</td>\n",
       "    </tr>\n",
       "    <tr>\n",
       "      <th>1527</th>\n",
       "      <td>Mumbai</td>\n",
       "      <td>12442373.0</td>\n",
       "      <td>2011</td>\n",
       "    </tr>\n",
       "    <tr>\n",
       "      <th>479</th>\n",
       "      <td>Moscow</td>\n",
       "      <td>11979529.0</td>\n",
       "      <td>2013</td>\n",
       "    </tr>\n",
       "    <tr>\n",
       "      <th>1340</th>\n",
       "      <td>Beijing</td>\n",
       "      <td>11716620.0</td>\n",
       "      <td>2010</td>\n",
       "    </tr>\n",
       "    <tr>\n",
       "      <th>2810</th>\n",
       "      <td>São Paulo</td>\n",
       "      <td>11152344.0</td>\n",
       "      <td>2010</td>\n",
       "    </tr>\n",
       "    <tr>\n",
       "      <th>1342</th>\n",
       "      <td>Tianjin</td>\n",
       "      <td>11090314.0</td>\n",
       "      <td>2010</td>\n",
       "    </tr>\n",
       "    <tr>\n",
       "      <th>1064</th>\n",
       "      <td>Guangzhou</td>\n",
       "      <td>11071424.0</td>\n",
       "      <td>2010</td>\n",
       "    </tr>\n",
       "    <tr>\n",
       "      <th>1582</th>\n",
       "      <td>Delhi</td>\n",
       "      <td>11034555.0</td>\n",
       "      <td>2011</td>\n",
       "    </tr>\n",
       "    <tr>\n",
       "      <th>1067</th>\n",
       "      <td>Shenzhen</td>\n",
       "      <td>10358381.0</td>\n",
       "      <td>2010</td>\n",
       "    </tr>\n",
       "  </tbody>\n",
       "</table>\n",
       "</div>"
      ],
      "text/plain": [
       "           name  population attribselector\n",
       "1341   Shanghai  22315474.0           2010\n",
       "771    Istanbul  13710512.0           2012\n",
       "1527     Mumbai  12442373.0           2011\n",
       "479      Moscow  11979529.0           2013\n",
       "1340    Beijing  11716620.0           2010\n",
       "2810  São Paulo  11152344.0           2010\n",
       "1342    Tianjin  11090314.0           2010\n",
       "1064  Guangzhou  11071424.0           2010\n",
       "1582      Delhi  11034555.0           2011\n",
       "1067   Shenzhen  10358381.0           2010"
      ]
     },
     "execution_count": 627,
     "metadata": {},
     "output_type": "execute_result"
    }
   ],
   "source": [
    "### -- question 2: 10 cities with the largest population\n",
    "\n",
    "cdf = make_df(root, tag=\"city\", attribselector=\"year\", oncolumn=\"population\", comparisontype=\"mostest\")\n",
    "cdf['population'] = cdf['population'].astype('float')\n",
    "cdf[['name', 'population', 'attribselector']].sort_values('population', ascending=False)[0:10]"
   ]
  },
  {
   "cell_type": "code",
   "execution_count": 632,
   "metadata": {
    "scrolled": false
   },
   "outputs": [
    {
     "data": {
      "text/html": [
       "<div>\n",
       "<style>\n",
       "    .dataframe thead tr:only-child th {\n",
       "        text-align: right;\n",
       "    }\n",
       "\n",
       "    .dataframe thead th {\n",
       "        text-align: left;\n",
       "    }\n",
       "\n",
       "    .dataframe tbody tr th {\n",
       "        vertical-align: top;\n",
       "    }\n",
       "</style>\n",
       "<table border=\"1\" class=\"dataframe\">\n",
       "  <thead>\n",
       "    <tr style=\"text-align: right;\">\n",
       "      <th></th>\n",
       "      <th>ethnicgroup</th>\n",
       "      <th>population</th>\n",
       "    </tr>\n",
       "  </thead>\n",
       "  <tbody>\n",
       "    <tr>\n",
       "      <th>40</th>\n",
       "      <td>Han Chinese</td>\n",
       "      <td>1.245059e+09</td>\n",
       "    </tr>\n",
       "    <tr>\n",
       "      <th>159</th>\n",
       "      <td>Indo-Aryan</td>\n",
       "      <td>8.718156e+08</td>\n",
       "    </tr>\n",
       "    <tr>\n",
       "      <th>59</th>\n",
       "      <td>European</td>\n",
       "      <td>4.948722e+08</td>\n",
       "    </tr>\n",
       "    <tr>\n",
       "      <th>71</th>\n",
       "      <td>African</td>\n",
       "      <td>3.183251e+08</td>\n",
       "    </tr>\n",
       "    <tr>\n",
       "      <th>49</th>\n",
       "      <td>Dravidian</td>\n",
       "      <td>3.027137e+08</td>\n",
       "    </tr>\n",
       "    <tr>\n",
       "      <th>67</th>\n",
       "      <td>Mestizo</td>\n",
       "      <td>1.577344e+08</td>\n",
       "    </tr>\n",
       "    <tr>\n",
       "      <th>47</th>\n",
       "      <td>Bengali</td>\n",
       "      <td>1.467769e+08</td>\n",
       "    </tr>\n",
       "    <tr>\n",
       "      <th>19</th>\n",
       "      <td>Russian</td>\n",
       "      <td>1.318570e+08</td>\n",
       "    </tr>\n",
       "    <tr>\n",
       "      <th>62</th>\n",
       "      <td>Japanese</td>\n",
       "      <td>1.265342e+08</td>\n",
       "    </tr>\n",
       "    <tr>\n",
       "      <th>52</th>\n",
       "      <td>Malay</td>\n",
       "      <td>1.219936e+08</td>\n",
       "    </tr>\n",
       "  </tbody>\n",
       "</table>\n",
       "</div>"
      ],
      "text/plain": [
       "     ethnicgroup    population\n",
       "40   Han Chinese  1.245059e+09\n",
       "159   Indo-Aryan  8.718156e+08\n",
       "59      European  4.948722e+08\n",
       "71       African  3.183251e+08\n",
       "49     Dravidian  3.027137e+08\n",
       "67       Mestizo  1.577344e+08\n",
       "47       Bengali  1.467769e+08\n",
       "19       Russian  1.318570e+08\n",
       "62      Japanese  1.265342e+08\n",
       "52         Malay  1.219936e+08"
      ]
     },
     "execution_count": 632,
     "metadata": {},
     "output_type": "execute_result"
    }
   ],
   "source": [
    "### -- question 3: 10 ethnic groups with the largest overall populations \n",
    "### -- (sum of best/latest estimates over all countries)\n",
    "\n",
    "# let's get country populations first\n",
    "cpop = make_df(root, tag=\"country\", attribselector=\"year\", oncolumn=\"population\", comparisontype=\"mostest\")\n",
    "cpop['population'] = cpop['population'].astype('float')\n",
    "\n",
    "# now the ethnic percentages\n",
    "edf = make_df(root, tag=\"country\", attribselector=\"percentage\", oncolumn=\"ethnicgroup\", comparisontype=\"enumerate\")\n",
    "edf['attribselector'] = edf['attribselector'].astype('float')\n",
    "edf['population'] = edf['population'].astype('float')\n",
    "\n",
    "# use population values from cpop. \n",
    "listofcountries = edf.name.unique()\n",
    "for con in listofcountries:\n",
    "    cpopval = cpop.population.loc[cpop.name == con].iloc[0]\n",
    "    edf.population.loc[edf.name == con] = cpopval\n",
    "\n",
    "# adjust by percentages\n",
    "edf.population = (edf.population * edf.attribselector)/100\n",
    "\n",
    "listofethnicities = edf.ethnicgroup.unique()\n",
    "summarytable = pd.DataFrame(index=range(len(listofethnicities)), columns=['ethnicgroup', 'population'])\n",
    "summarytable.drop(summarytable.index, inplace=True)\n",
    "\n",
    "i = 0\n",
    "for eth in listofethnicities:\n",
    "    thisgroup = edf[edf.ethnicgroup == eth]\n",
    "    totpop = thisgroup.population.sum()\n",
    "    summarytable = summarytable.append({'ethnicgroup':eth, 'population':totpop}, ignore_index=True)\n",
    "\n",
    "summarytable.sort_values('population', ascending=False)[0:10]"
   ]
  },
  {
   "cell_type": "code",
   "execution_count": 634,
   "metadata": {},
   "outputs": [
    {
     "name": "stdout",
     "output_type": "stream",
     "text": [
      "    attribselector      name  length\n",
      "174       CO BR PE  Amazonas  6448.0\n",
      "\n",
      "\n",
      "    attribselector         name      area\n",
      "54  R AZ KAZ IR TM  Caspian Sea  386400.0\n",
      "\n",
      "\n",
      "   attribselector          name  elevation\n",
      "80            BOL  El Alto Intl     4063.0\n"
     ]
    }
   ],
   "source": [
    "### -- question 4: name and country of:\n",
    "\n",
    "# a) longest river\n",
    "rivers = make_df(root, tag=\"river\", attribselector=\"country\", oncolumn=\"river\", comparisontype=\"na\")\n",
    "rivers['length'] = rivers['length'].astype('float')\n",
    "print rivers[['attribselector', 'name', 'length']].sort_values('length', ascending=False)[0:1]\n",
    "print '\\n'\n",
    "\n",
    "# b) largest lake\n",
    "lakes = make_df(root, tag=\"lake\", attribselector=\"country\", oncolumn=\"lake\", comparisontype=\"na\")\n",
    "lakes['area'] = lakes['area'].astype('float')\n",
    "print lakes[['attribselector', 'name', 'area']].sort_values('area', ascending=False)[0:1]\n",
    "print '\\n'\n",
    "\n",
    "# c) airport at highest elevation\n",
    "airports = make_df(root, tag=\"airport\", attribselector=\"country\", oncolumn=\"airport\", comparisontype=\"na\")\n",
    "airports['elevation'] = airports['elevation'].astype('float')\n",
    "print airports[['attribselector', 'name', 'elevation']].sort_values('elevation', ascending=False)[0:1]"
   ]
  },
  {
   "cell_type": "code",
   "execution_count": null,
   "metadata": {
    "collapsed": true
   },
   "outputs": [],
   "source": []
  },
  {
   "cell_type": "code",
   "execution_count": null,
   "metadata": {
    "collapsed": true
   },
   "outputs": [],
   "source": []
  },
  {
   "cell_type": "code",
   "execution_count": null,
   "metadata": {
    "collapsed": true
   },
   "outputs": [],
   "source": []
  },
  {
   "cell_type": "code",
   "execution_count": null,
   "metadata": {
    "collapsed": true
   },
   "outputs": [],
   "source": []
  },
  {
   "cell_type": "code",
   "execution_count": null,
   "metadata": {
    "collapsed": true
   },
   "outputs": [],
   "source": []
  },
  {
   "cell_type": "code",
   "execution_count": null,
   "metadata": {
    "collapsed": true
   },
   "outputs": [],
   "source": []
  },
  {
   "cell_type": "code",
   "execution_count": null,
   "metadata": {
    "collapsed": true
   },
   "outputs": [],
   "source": []
  },
  {
   "cell_type": "code",
   "execution_count": null,
   "metadata": {
    "collapsed": true
   },
   "outputs": [],
   "source": []
  },
  {
   "cell_type": "code",
   "execution_count": null,
   "metadata": {
    "collapsed": true
   },
   "outputs": [],
   "source": []
  },
  {
   "cell_type": "code",
   "execution_count": null,
   "metadata": {
    "collapsed": true
   },
   "outputs": [],
   "source": []
  },
  {
   "cell_type": "code",
   "execution_count": null,
   "metadata": {
    "collapsed": true
   },
   "outputs": [],
   "source": []
  }
 ],
 "metadata": {
  "kernelspec": {
   "display_name": "Python 2",
   "language": "python",
   "name": "python2"
  },
  "language_info": {
   "codemirror_mode": {
    "name": "ipython",
    "version": 2
   },
   "file_extension": ".py",
   "mimetype": "text/x-python",
   "name": "python",
   "nbconvert_exporter": "python",
   "pygments_lexer": "ipython2",
   "version": "2.7.10"
  }
 },
 "nbformat": 4,
 "nbformat_minor": 1
}
